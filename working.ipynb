{
 "cells": [
  {
   "cell_type": "markdown",
   "metadata": {},
   "source": [
    "Try to run ror.py\n",
    "\n",
    "- Maybe better to use `key` or `doi` for deduplication\n",
    "- Maybe checksum\n",
    "- Maybe store meta-data somewhere\n",
    "\n",
    "Steps\n",
    "\n",
    "1. Download metadata\n",
    "2. Check metadata exist in staging metadata store\n",
    "3. If yes, skip\n",
    "4. If no, download\n",
    "5. Verify checksum\n",
    "6. Dump to staging storage\n",
    "\n",
    "Just reproduce for now... with some basic cleaning"
   ]
  },
  {
   "cell_type": "code",
   "execution_count": null,
   "metadata": {},
   "outputs": [],
   "source": [
    "from openalex_ingest.provider import ror\n",
    "from openalex_ingest.staging import S3Dumper, LocalDumper"
   ]
  },
  {
   "cell_type": "code",
   "execution_count": null,
   "metadata": {},
   "outputs": [],
   "source": [
    "y = ror.get_most_recent_ror_dump_metadata()\n",
    "data, file_name = ror.download_and_unzip_ror_data(y[\"links\"][\"self\"])\n",
    "print(y)"
   ]
  },
  {
   "cell_type": "markdown",
   "metadata": {},
   "source": [
    "### Dump with S3"
   ]
  },
  {
   "cell_type": "code",
   "execution_count": null,
   "metadata": {},
   "outputs": [],
   "source": [
    "s3_dumper = S3Dumper(prefix=\"ror/snapshots\")\n",
    "s3_dumper.dump(data, file_name)\n",
    "s3_dumper.list_files()"
   ]
  },
  {
   "cell_type": "markdown",
   "metadata": {},
   "source": [
    "### Dump locally for testing"
   ]
  },
  {
   "cell_type": "code",
   "execution_count": null,
   "metadata": {},
   "outputs": [],
   "source": [
    "local_dumper = LocalDumper()\n",
    "local_dumper.dump(data, file_name)\n",
    "local_dumper.list_files()"
   ]
  },
  {
   "cell_type": "code",
   "execution_count": 1,
   "metadata": {},
   "outputs": [],
   "source": [
    "import boto3"
   ]
  },
  {
   "cell_type": "code",
   "execution_count": null,
   "metadata": {},
   "outputs": [],
   "source": [
    "s3 = boto3.resource(\"s3\")\n",
    "type(s3)\n",
    "\n",
    "import boto3."
   ]
  },
  {
   "cell_type": "code",
   "execution_count": 3,
   "metadata": {},
   "outputs": [
    {
     "ename": "AttributeError",
     "evalue": "module 'boto3' has no attribute 'ServiceResource'",
     "output_type": "error",
     "traceback": [
      "\u001b[0;31m---------------------------------------------------------------------------\u001b[0m",
      "\u001b[0;31mAttributeError\u001b[0m                            Traceback (most recent call last)",
      "Cell \u001b[0;32mIn[3], line 1\u001b[0m\n\u001b[0;32m----> 1\u001b[0m \u001b[43mboto3\u001b[49m\u001b[38;5;241;43m.\u001b[39;49m\u001b[43mServiceResource\u001b[49m\n",
      "\u001b[0;31mAttributeError\u001b[0m: module 'boto3' has no attribute 'ServiceResource'"
     ]
    }
   ],
   "source": [
    "boto3.ServiceResource"
   ]
  }
 ],
 "metadata": {
  "kernelspec": {
   "display_name": ".venv",
   "language": "python",
   "name": "python3"
  },
  "language_info": {
   "codemirror_mode": {
    "name": "ipython",
    "version": 3
   },
   "file_extension": ".py",
   "mimetype": "text/x-python",
   "name": "python",
   "nbconvert_exporter": "python",
   "pygments_lexer": "ipython3",
   "version": "3.10.15"
  }
 },
 "nbformat": 4,
 "nbformat_minor": 2
}
